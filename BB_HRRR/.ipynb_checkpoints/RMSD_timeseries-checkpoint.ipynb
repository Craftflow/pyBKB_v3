{
 "cells": [
  {
   "cell_type": "markdown",
   "metadata": {},
   "source": [
    "*Brian Blaylock*  \n",
    "*September 21, 2018*\n",
    "\n",
    "# HRRR Root-mean-square-differences (RMSD): Time Series"
   ]
  },
  {
   "cell_type": "code",
   "execution_count": 1,
   "metadata": {},
   "outputs": [],
   "source": [
    "import numpy as np\n",
    "import matplotlib.pyplot as plt\n",
    "from datetime import datetime, timedelta\n",
    "import multiprocessing\n",
    "import os\n",
    "\n",
    "import sys\n",
    "sys.path.append('/uufs/chpc.utah.edu/common/home/u0553130/pyBKB_v3')\n",
    "\n",
    "from BB_GOES.get_ABI import get_GOES_truecolor, file_nearest\n",
    "from BB_GOES.get_GLM import get_GLM_files_for_ABI, accumulate_GLM\n",
    "from BB_HRRR.HRRR_Pando import get_hrrr_variable\n",
    "from BB_HRRR.HRRR_RMSD import RMSD, RMSD_range\n",
    "from BB_maps.my_basemap import draw_HRRR_map\n",
    "from BB_cmap.NWS_standard_cmap import cm_wind, cm_temp, cm_dpt\n",
    "from BB_cmap.reflectivity_cmap import reflect_ncdc"
   ]
  },
  {
   "cell_type": "code",
   "execution_count": 2,
   "metadata": {},
   "outputs": [],
   "source": [
    "m = draw_HRRR_map()"
   ]
  },
  {
   "cell_type": "code",
   "execution_count": 3,
   "metadata": {},
   "outputs": [],
   "source": [
    "import matplotlib as mpl\n",
    "mpl.rcParams['figure.figsize'] = [15,15]\n",
    "mpl.rcParams['figure.titlesize'] = 15\n",
    "mpl.rcParams['figure.titleweight'] = 'bold'\n",
    "mpl.rcParams['xtick.labelsize'] = 10\n",
    "mpl.rcParams['ytick.labelsize'] = 10\n",
    "mpl.rcParams['axes.labelsize'] = 12\n",
    "mpl.rcParams['axes.titlesize'] = 15\n",
    "mpl.rcParams['lines.linewidth'] = 1.8\n",
    "mpl.rcParams['grid.linewidth'] = .25\n",
    "mpl.rcParams['figure.subplot.wspace'] = 0.05\n",
    "mpl.rcParams['figure.subplot.hspace'] = 0.05\n",
    "mpl.rcParams['legend.fontsize'] = 10\n",
    "mpl.rcParams['legend.framealpha'] = .75\n",
    "mpl.rcParams['legend.loc'] = 'best'\n",
    "mpl.rcParams['savefig.bbox'] = 'tight'\n",
    "mpl.rcParams['savefig.dpi'] = 100"
   ]
  },
  {
   "cell_type": "code",
   "execution_count": 6,
   "metadata": {},
   "outputs": [],
   "source": [
    "def graph_this(DATE):\n",
    "    img_name = SAVEDIR+'HRRR_RMSD-%s_%s' % (variable.replace(':', '-').replace(' ', '-'), DATE.strftime('%Y%m%d-%H%M'))\n",
    "    if not os.path.exists(img_name):    \n",
    "        if variable in ['LTNG:entire', 'APCP:surface', 'WIND:10 m']:\n",
    "            FORECASTS = range(1, 19)\n",
    "        else:\n",
    "            FORECASTS = range(19)\n",
    "        rmsd = RMSD(DATE, variable, FORECASTS=FORECASTS, verbose=False)\n",
    "        m.pcolormesh(rmsd['lon'], rmsd['lat'], rmsd['RMSD'], latlon=True, vmin=0)\n",
    "        plt.colorbar(orientation='horizontal', shrink=.8, pad=.01)\n",
    "\n",
    "        m.drawcoastlines(color='w', linewidth=.15)\n",
    "        m.drawcountries(color='w', linewidth=.15)\n",
    "        m.drawstates(color='w', linewidth=.15)\n",
    "\n",
    "        plt.title('HRRR RMSD %s' % (variable), loc='left', fontweight='semibold')\n",
    "        plt.title('Valid: %s' % (DATE.strftime('%Y-%m-%d %H:%M UTC')), loc='right')\n",
    "\n",
    "        plt.savefig(img_name)\n",
    "\n",
    "        sys.stdout.write('\\r %s finished' % DATE)\n",
    "        sys.stdout.flush()\n",
    "        \n",
    "        plt.close()"
   ]
  },
  {
   "cell_type": "code",
   "execution_count": 7,
   "metadata": {},
   "outputs": [],
   "source": [
    "sDATE = datetime(2018, 6, 1)\n",
    "eDATE = datetime(2018, 6, 10)\n",
    "num_hours = (eDATE-sDATE).days*24 + int((eDATE-sDATE).seconds/60/60)\n",
    "DATES = [sDATE+timedelta(hours=h) for h in range(num_hours)]"
   ]
  },
  {
   "cell_type": "code",
   "execution_count": null,
   "metadata": {},
   "outputs": [
    {
     "name": "stderr",
     "output_type": "stream",
     "text": [
      "/uufs/chpc.utah.edu/common/home/u0553130/anaconda3/lib/python3.6/site-packages/h5py/__init__.py:36: FutureWarning: Conversion of the second argument of issubdtype from `float` to `np.floating` is deprecated. In future, it will be treated as `np.float64 == np.dtype(float).type`.\n",
      "  from ._conv import register_converters as _register_converters\n",
      "/uufs/chpc.utah.edu/common/home/u0553130/anaconda3/lib/python3.6/site-packages/h5py/__init__.py:36: FutureWarning: Conversion of the second argument of issubdtype from `float` to `np.floating` is deprecated. In future, it will be treated as `np.float64 == np.dtype(float).type`.\n",
      "  from ._conv import register_converters as _register_converters\n",
      "/uufs/chpc.utah.edu/common/home/u0553130/anaconda3/lib/python3.6/site-packages/h5py/__init__.py:36: FutureWarning: Conversion of the second argument of issubdtype from `float` to `np.floating` is deprecated. In future, it will be treated as `np.float64 == np.dtype(float).type`.\n",
      "  from ._conv import register_converters as _register_converters\n",
      "/uufs/chpc.utah.edu/common/home/u0553130/anaconda3/lib/python3.6/site-packages/h5py/__init__.py:36: FutureWarning: Conversion of the second argument of issubdtype from `float` to `np.floating` is deprecated. In future, it will be treated as `np.float64 == np.dtype(float).type`.\n",
      "  from ._conv import register_converters as _register_converters\n",
      "/uufs/chpc.utah.edu/common/home/u0553130/anaconda3/lib/python3.6/site-packages/h5py/__init__.py:36: FutureWarning: Conversion of the second argument of issubdtype from `float` to `np.floating` is deprecated. In future, it will be treated as `np.float64 == np.dtype(float).type`.\n",
      "  from ._conv import register_converters as _register_converters\n",
      "/uufs/chpc.utah.edu/common/home/u0553130/anaconda3/lib/python3.6/site-packages/h5py/__init__.py:36: FutureWarning: Conversion of the second argument of issubdtype from `float` to `np.floating` is deprecated. In future, it will be treated as `np.float64 == np.dtype(float).type`.\n",
      "  from ._conv import register_converters as _register_converters\n",
      "/uufs/chpc.utah.edu/common/home/u0553130/anaconda3/lib/python3.6/site-packages/h5py/__init__.py:36: FutureWarning: Conversion of the second argument of issubdtype from `float` to `np.floating` is deprecated. In future, it will be treated as `np.float64 == np.dtype(float).type`.\n",
      "  from ._conv import register_converters as _register_converters\n"
     ]
    },
    {
     "name": "stdout",
     "output_type": "stream",
     "text": [
      " 2018-06-01 06:00:00 finished"
     ]
    }
   ],
   "source": [
    "for variable in ['LTNG:entire', 'REFC:entire', 'WIND:10 m', 'CAPE:surface', 'HGT:500 mb', 'DPT:2 m', 'UGRD:10 m', 'VGRD:10 m', 'TMP:2 m']:\n",
    "#for variable in ['WIND:10 m']:\n",
    "    SAVEDIR = '/uufs/chpc.utah.edu/common/home/u0553130/public_html/PhD/HRRR_RMSE/TimeSeries/%s/' % (variable.split(':')[0])\n",
    "    if not os.path.exists(SAVEDIR):\n",
    "        os.makedirs(SAVEDIR)\n",
    "    \n",
    "    cpus = 7\n",
    "    P = multiprocessing.Pool(cpus)\n",
    "    P.map(graph_this, DATES)\n",
    "    P.close()"
   ]
  },
  {
   "cell_type": "code",
   "execution_count": null,
   "metadata": {},
   "outputs": [],
   "source": []
  },
  {
   "cell_type": "code",
   "execution_count": null,
   "metadata": {},
   "outputs": [],
   "source": []
  }
 ],
 "metadata": {
  "kernelspec": {
   "display_name": "Python 3",
   "language": "python",
   "name": "python3"
  },
  "language_info": {
   "codemirror_mode": {
    "name": "ipython",
    "version": 3
   },
   "file_extension": ".py",
   "mimetype": "text/x-python",
   "name": "python",
   "nbconvert_exporter": "python",
   "pygments_lexer": "ipython3",
   "version": "3.6.5"
  }
 },
 "nbformat": 4,
 "nbformat_minor": 2
}

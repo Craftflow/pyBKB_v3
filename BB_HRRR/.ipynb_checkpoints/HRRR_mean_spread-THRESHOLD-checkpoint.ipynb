{
 "cells": [
  {
   "cell_type": "markdown",
   "metadata": {},
   "source": [
    "**Brian Blaylock**  \n",
    "**December 4, 2018**\n",
    "\n",
    "# Mean HRRR Model Spread FOR A THRESHOLD CONDITION\n",
    "\n",
    "The model spread is the standard deviation between all the members. The mean model spread, however, is the square root of the mean variance.\n",
    "\n",
    "> Fortin, V., M. Abaza, F. Anctil, and R. Turcotte, 2014: Why Should Ensemble Spread Match the RMSE of the Ensemble Mean?. J. Hydrometeor., 15, 1708–1713, https://doi.org/10.1175/JHM-D-14-0008.1  \n",
    ">See equation (16)\n"
   ]
  },
  {
   "cell_type": "code",
   "execution_count": 44,
   "metadata": {},
   "outputs": [],
   "source": [
    "import numpy as np\n",
    "from datetime import datetime, timedelta\n",
    "import matplotlib.pyplot as plt\n",
    "\n",
    "import sys\n",
    "sys.path.append('/uufs/chpc.utah.edu/common/home/u0553130/pyBKB_v3')\n",
    "sys.path.append('B:\\pyBKB_v3')\n",
    "from BB_HRRR.HRRR_Pando import get_hrrr_latlon, get_hrrr_variable\n",
    "from BB_maps.my_basemap import draw_HRRR_map, draw_centermap\n",
    "from BB_HRRR.HRRR_Spread import mean_spread\n",
    "from BB_datetimes.range import range_dates"
   ]
  },
  {
   "cell_type": "code",
   "execution_count": 43,
   "metadata": {},
   "outputs": [],
   "source": [
    "# Geospatial and Basemap\n",
    "latlon = get_hrrr_latlon()\n",
    "lat = latlon['lat']\n",
    "lon = latlon['lon']\n",
    "\n",
    "# CONUS Domain\n",
    "m = draw_HRRR_map()\n",
    "\n",
    "# Western US\n",
    "mW = draw_centermap(40, -115, (10,10))\n",
    "\n",
    "# Utah \n",
    "mU = draw_centermap(39.5, -111.6, (3.2,3.2))"
   ]
  },
  {
   "cell_type": "code",
   "execution_count": 2,
   "metadata": {},
   "outputs": [],
   "source": [
    "hour = 12\n",
    "sDATE = datetime(2018, 5, 1, hour)\n",
    "eDATE = datetime(2018, 10, 1, hour)\n",
    "DATES = range_dates(sDATE, eDATE, DAYS=1)\n",
    "\n",
    "fxx = range(0,)"
   ]
  },
  {
   "cell_type": "code",
   "execution_count": null,
   "metadata": {},
   "outputs": [],
   "source": []
  }
 ],
 "metadata": {
  "kernelspec": {
   "display_name": "Python 3",
   "language": "python",
   "name": "python3"
  },
  "language_info": {
   "codemirror_mode": {
    "name": "ipython",
    "version": 3
   },
   "file_extension": ".py",
   "mimetype": "text/x-python",
   "name": "python",
   "nbconvert_exporter": "python",
   "pygments_lexer": "ipython3",
   "version": "3.6.5"
  }
 },
 "nbformat": 4,
 "nbformat_minor": 2
}

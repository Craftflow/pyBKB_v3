{
 "cells": [
  {
   "cell_type": "markdown",
   "metadata": {},
   "source": [
    "**Brian Blaylock**  \n",
    "**January 25, 2019**\n",
    "\n",
    "# Pando Data retreval speed\n",
    "\n",
    "## Is it best to read GRIB2 file directly from the HG7 disk, or is it faster to download a partial file from Pando?\n",
    "\n",
    "Answer: It is faster to download partial files from Pando than to read the entire file from disk."
   ]
  },
  {
   "cell_type": "code",
   "execution_count": 1,
   "metadata": {},
   "outputs": [],
   "source": [
    "from datetime import datetime, timedelta\n",
    "import os\n",
    "import numpy as np\n",
    "import matplotlib.pyplot as plt\n",
    "import pygrib\n",
    "\n",
    "import sys\n",
    "sys.path.append('/uufs/chpc.utah.edu/common/home/u0553130/pyBKB_v3')\n",
    "from BB_HRRR.HRRR_Pando import get_hrrr_variable\n"
   ]
  },
  {
   "cell_type": "code",
   "execution_count": 134,
   "metadata": {},
   "outputs": [],
   "source": [
    "DATE = datetime(2019, 1, 16)\n",
    "DATES = [DATE + timedelta(hours=i) for i in range(30)]"
   ]
  },
  {
   "cell_type": "markdown",
   "metadata": {},
   "source": [
    "Download many files from Pando..."
   ]
  },
  {
   "cell_type": "code",
   "execution_count": 135,
   "metadata": {},
   "outputs": [],
   "source": [
    "times = []\n",
    "for i in DATES:\n",
    "    timer = datetime.now()\n",
    "    H = get_hrrr_variable(DATE, 'TMP:2 m', verbose=False, value_only=True)\n",
    "    times.append(datetime.now()-timer)"
   ]
  },
  {
   "cell_type": "markdown",
   "metadata": {},
   "source": [
    "Open many files from disk..."
   ]
  },
  {
   "cell_type": "code",
   "execution_count": 136,
   "metadata": {},
   "outputs": [],
   "source": [
    "times2 = []\n",
    "for i in DATES:\n",
    "    timer = datetime.now()\n",
    "    DIR = '/uufs/chpc.utah.edu/common/home/horel-group7/Pando/hrrr/sfc/%s/' % (DATE.strftime('%Y%m%d'))\n",
    "    FILE = 'hrrr.t%02dz.wrfsfcf00.grib2' % DATE.hour\n",
    "    os.path.exists(DIR+FILE)\n",
    "    grbs = pygrib.open(DIR+FILE)\n",
    "    G = grbs.select(name='2 metre temperature')\n",
    "    v, lat, lon = G[0].data()\n",
    "    HH = {'value': v,\n",
    "          'lat': lat,\n",
    "          'lon': lon}\n",
    "    grbs.close()\n",
    "    times2.append(datetime.now()-timer)"
   ]
  },
  {
   "cell_type": "markdown",
   "metadata": {},
   "source": [
    "### Data retreval Statistics\n",
    "----"
   ]
  },
  {
   "cell_type": "code",
   "execution_count": 137,
   "metadata": {},
   "outputs": [
    {
     "name": "stdout",
     "output_type": "stream",
     "text": [
      "\tOpen from Pando\t\tOpen from disk\n",
      " max\t 0:00:00.282710 \t 0:00:03.519612\n",
      "mean\t 0:00:00.262088 \t 0:00:01.310397\n",
      " min\t 0:00:00.207296 \t 0:00:01.062835\n"
     ]
    },
    {
     "data": {
      "image/png": "[encoded data removed]",
      "text/plain": [
       "<Figure size 432x288 with 1 Axes>"
      ]
     },
     "metadata": {},
     "output_type": "display_data"
    }
   ],
   "source": [
    "print(\"\\tOpen from Pando\\t\\tOpen from disk\")\n",
    "print(' max\\t', np.max(times), '\\t', np.max(times2))\n",
    "print('mean\\t', np.mean(times), '\\t', np.mean(times2))\n",
    "print(' min\\t', np.min(times), '\\t', np.min(times2))\n",
    "\n",
    "a = list(map(lambda x: x.microseconds/1000000+x.seconds, times))\n",
    "b = list(map(lambda x: x.microseconds/1000000+x.seconds, times2))\n",
    "\n",
    "plt.plot(b, label='Open from Disk')\n",
    "plt.plot(a, label='Download from Pando')\n",
    "plt.legend()\n",
    "plt.ylabel('Seconds to get data')\n",
    "plt.xlabel('Try')\n",
    "plt.ylim(ymin=0);"
   ]
  },
  {
   "cell_type": "markdown",
   "metadata": {},
   "source": [
    "---\n",
    "Nice! Getting data from Pando is efficient. I probably should have checked this was true a few years ago."
   ]
  },
  {
   "cell_type": "code",
   "execution_count": null,
   "metadata": {},
   "outputs": [],
   "source": []
  }
 ],
 "metadata": {
  "kernelspec": {
   "display_name": "Python 3",
   "language": "python",
   "name": "python3"
  },
  "language_info": {
   "codemirror_mode": {
    "name": "ipython",
    "version": 3
   },
   "file_extension": ".py",
   "mimetype": "text/x-python",
   "name": "python",
   "nbconvert_exporter": "python",
   "pygments_lexer": "ipython3",
   "version": "3.6.5"
  }
 },
 "nbformat": 4,
 "nbformat_minor": 2
}

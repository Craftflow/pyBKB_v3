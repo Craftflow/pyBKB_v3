{
 "cells": [
  {
   "cell_type": "markdown",
   "metadata": {},
   "source": [
    "What is the time difference to open a GRIB2 file from disk versus from Pando?"
   ]
  },
  {
   "cell_type": "code",
   "execution_count": 1,
   "metadata": {},
   "outputs": [],
   "source": [
    "from datetime import datetime, timedelta\n",
    "import os\n",
    "import numpy as np\n",
    "import matplotlib.pyplot as plt\n",
    "import pygrib\n",
    "\n",
    "import sys\n",
    "sys.path.append('/uufs/chpc.utah.edu/common/home/u0553130/pyBKB_v3')\n",
    "from BB_HRRR.HRRR_Pando import get_hrrr_variable\n"
   ]
  },
  {
   "cell_type": "code",
   "execution_count": 68,
   "metadata": {},
   "outputs": [],
   "source": [
    "DATE = datetime(2019, 1, 16)\n",
    "\n",
    "times = []\n",
    "for i in range(10):\n",
    "    timer = datetime.now()\n",
    "    H = get_hrrr_variable(DATE, 'TMP:2 m', verbose=False, value_only=True)\n",
    "    times.append(datetime.now()-timer)"
   ]
  },
  {
   "cell_type": "code",
   "execution_count": 69,
   "metadata": {},
   "outputs": [],
   "source": [
    "times2 = []\n",
    "for i in range(10):\n",
    "    timer = datetime.now()\n",
    "    DIR = '/uufs/chpc.utah.edu/common/home/horel-group7/Pando/hrrr/sfc/%s/' % (DATE.strftime('%Y%m%d'))\n",
    "    FILE = 'hrrr.t%02dz.wrfsfcf00.grib2' % DATE.hour\n",
    "    os.path.exists(DIR+FILE)\n",
    "    grbs = pygrib.open(DIR+FILE)\n",
    "    G = grbs.select(name='2 metre temperature')\n",
    "    v, lat, lon = G[0].data()\n",
    "    HH = {'value': v,\n",
    "          'lat': lat,\n",
    "          'lon': lon}\n",
    "    times2.append(datetime.now()-timer)"
   ]
  },
  {
   "cell_type": "code",
   "execution_count": 70,
   "metadata": {},
   "outputs": [
    {
     "data": {
      "text/plain": [
       "(datetime.timedelta(0, 0, 250322),\n",
       " datetime.timedelta(0, 0, 219902),\n",
       " datetime.timedelta(0, 0, 171473))"
      ]
     },
     "execution_count": 70,
     "metadata": {},
     "output_type": "execute_result"
    }
   ],
   "source": [
    "np.max(times), np.mean(times), np.min(times)"
   ]
  },
  {
   "cell_type": "code",
   "execution_count": 71,
   "metadata": {},
   "outputs": [
    {
     "data": {
      "text/plain": [
       "(datetime.timedelta(0, 1, 505911),\n",
       " datetime.timedelta(0, 1, 188909),\n",
       " datetime.timedelta(0, 1, 54731))"
      ]
     },
     "execution_count": 71,
     "metadata": {},
     "output_type": "execute_result"
    }
   ],
   "source": [
    "np.max(times2), np.mean(times2), np.min(times2)"
   ]
  },
  {
   "cell_type": "code",
   "execution_count": null,
   "metadata": {},
   "outputs": [],
   "source": []
  }
 ],
 "metadata": {
  "kernelspec": {
   "display_name": "Python 3",
   "language": "python",
   "name": "python3"
  },
  "language_info": {
   "codemirror_mode": {
    "name": "ipython",
    "version": 3
   },
   "file_extension": ".py",
   "mimetype": "text/x-python",
   "name": "python",
   "nbconvert_exporter": "python",
   "pygments_lexer": "ipython3",
   "version": "3.6.5"
  }
 },
 "nbformat": 4,
 "nbformat_minor": 2
}

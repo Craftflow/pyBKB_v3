{
 "cells": [
  {
   "cell_type": "markdown",
   "metadata": {},
   "source": [
    "**Brian Blaylock**  \n",
    "brian.blaylock@utah.edu  \n",
    "**November 13, 2018**\n",
    "\n",
    "# HRRR forecast pollywogs with OSG"
   ]
  },
  {
   "cell_type": "code",
   "execution_count": 1,
   "metadata": {},
   "outputs": [
    {
     "name": "stderr",
     "output_type": "stream",
     "text": [
      "/uufs/chpc.utah.edu/common/home/u0553130/anaconda3/lib/python3.6/site-packages/h5py/__init__.py:36: FutureWarning: Conversion of the second argument of issubdtype from `float` to `np.floating` is deprecated. In future, it will be treated as `np.float64 == np.dtype(float).type`.\n",
      "  from ._conv import register_converters as _register_converters\n"
     ]
    }
   ],
   "source": [
    "import h5py\n",
    "import matplotlib.pyplot as plt\n",
    "import matplotlib.dates as mdates\n",
    "import multiprocessing\n",
    "import numpy as np\n",
    "from datetime import datetime, timedelta\n",
    "from collections import OrderedDict\n",
    "\n",
    "import sys\n",
    "sys.path.append('/uufs/chpc.utah.edu/common/home/u0553130/pyBKB_v3')\n",
    "from BB_HRRR.HRRR_Pando import pluck_hrrr_point, LocDic_hrrr_hovmoller\n",
    "from BB_MesoWest.get_MesoWest import get_mesowest_stninfo, get_mesowest_ts\n",
    "from BB_wx_calcs.wind import wind_uv_to_spd"
   ]
  },
  {
   "cell_type": "code",
   "execution_count": 2,
   "metadata": {},
   "outputs": [],
   "source": [
    "from matplotlib.dates import DateFormatter\n",
    "formatter = DateFormatter('%b-%d\\n%H:%M')\n",
    "\n",
    "import matplotlib as mpl \n",
    "two_column = 6.5\n",
    "one_column = 3.2\n",
    "twothird_column = 6.8\n",
    "mpl.rcParams['figure.figsize'] = [two_column, 3]\n",
    "mpl.rcParams['figure.titlesize'] = 12\n",
    "mpl.rcParams['figure.titleweight'] = 'bold'\n",
    "mpl.rcParams['xtick.labelsize'] = 8\n",
    "mpl.rcParams['ytick.labelsize'] = 8\n",
    "mpl.rcParams['axes.labelsize'] = 8\n",
    "mpl.rcParams['axes.titlesize'] = 10\n",
    "mpl.rcParams['lines.linewidth'] = 1.8\n",
    "mpl.rcParams['grid.linewidth'] = .2\n",
    "mpl.rcParams['grid.alpha'] = .8\n",
    "mpl.rcParams['figure.subplot.wspace'] = 0.03\n",
    "mpl.rcParams['figure.subplot.hspace'] = 0.05\n",
    "mpl.rcParams['legend.fontsize'] = 7\n",
    "mpl.rcParams['legend.framealpha'] = .75\n",
    "mpl.rcParams['legend.loc'] = 'best'\n",
    "mpl.rcParams['savefig.bbox'] = 'tight'\n",
    "    \n",
    "mpl.rcParams['savefig.dpi'] = 1000    # 600 for print"
   ]
  },
  {
   "cell_type": "code",
   "execution_count": 3,
   "metadata": {},
   "outputs": [],
   "source": [
    "# Get Lat/Lon Grid\n",
    "DIR = '/uufs/chpc.utah.edu/common/home/horel-group7/Pando/hrrr/'\n",
    "latlon_file = h5py.File(DIR+'HRRR_latlon.h5', 'r')\n",
    "lat = latlon_file['latitude'].value\n",
    "lon = latlon_file['longitude'].value"
   ]
  },
  {
   "cell_type": "code",
   "execution_count": 4,
   "metadata": {},
   "outputs": [
    {
     "name": "stdout",
     "output_type": "stream",
     "text": [
      "\n",
      "Retrieving from MesoWest API: http://api.mesowest.net/v2/stations/metadata?&token=2562b729557f45f5958516081f06c9eb&stid=JBGC1\n",
      "\n",
      " >> Requested Center lat: 39.735908\t lon: -121.488983\n",
      " >>     Plucked HRRR lat: 39.74803\t lon: -121.49201\n",
      " >>     Plucked from   x: 664\t   y: 223\n"
     ]
    }
   ],
   "source": [
    "sDATE = datetime(2018, 11, 8, 0)\n",
    "eDATE = datetime(2018, 11, 10, 1)\n",
    "\n",
    "stn = 'JBGC1'\n",
    "# ----------------------------------------------\n",
    "location_dic = get_mesowest_stninfo(stn)\n",
    "H = {'lat':lat, 'lon':lon}\n",
    "\n",
    "x, y = pluck_hrrr_point(H, location_dic[stn]['latitude'], location_dic[stn]['longitude'],\n",
    "                        XY_only=True)"
   ]
  },
  {
   "cell_type": "code",
   "execution_count": 5,
   "metadata": {},
   "outputs": [
    {
     "name": "stdout",
     "output_type": "stream",
     "text": [
      "LocDic Time Series F00: Finished multiprocessing in 0:00:05.513687 on 22 processors\n",
      "LocDic Time Series F01: Finished multiprocessing in 0:00:06.071090 on 22 processors\n",
      "LocDic Time Series F02: Finished multiprocessing in 0:00:06.672660 on 22 processors\n",
      "LocDic Time Series F03: Finished multiprocessing in 0:00:06.504307 on 22 processors\n",
      "LocDic Time Series F04: Finished multiprocessing in 0:00:06.738988 on 22 processors\n",
      "LocDic Time Series F05: Finished multiprocessing in 0:00:06.514706 on 22 processors\n",
      "LocDic Time Series F06: Finished multiprocessing in 0:00:06.654263 on 22 processors\n",
      "LocDic Time Series F07: Finished multiprocessing in 0:00:07.087236 on 22 processors\n",
      "LocDic Time Series F08: Finished multiprocessing in 0:00:07.485918 on 22 processors\n",
      "LocDic Time Series F09: Finished multiprocessing in 0:00:06.483305 on 22 processors\n",
      "LocDic Time Series F10: Finished multiprocessing in 0:00:08.453421 on 22 processors\n",
      "LocDic Time Series F11: Finished multiprocessing in 0:00:07.669873 on 22 processors\n",
      "LocDic Time Series F12: Finished multiprocessing in 0:00:06.959136 on 22 processors\n",
      "LocDic Time Series F13: Finished multiprocessing in 0:00:06.669767 on 22 processors\n",
      "LocDic Time Series F14: Finished multiprocessing in 0:00:07.301518 on 22 processors\n",
      "LocDic Time Series F15: Finished multiprocessing in 0:00:05.818502 on 22 processors\n",
      "LocDic Time Series F16: Finished multiprocessing in 0:00:05.861369 on 22 processors\n",
      "LocDic Time Series F17: Finished multiprocessing in 0:00:06.149285 on 22 processors\n",
      "LocDic Time Series F18: Finished multiprocessing in 0:00:05.987654 on 22 processors\n",
      "LocDic Time Series F00: Finished multiprocessing in 0:00:05.543587 on 22 processors\n",
      "LocDic Time Series F01: Finished multiprocessing in 0:00:06.459201 on 22 processors\n",
      "LocDic Time Series F02: Finished multiprocessing in 0:00:06.433895 on 22 processors\n",
      "LocDic Time Series F03: Finished multiprocessing in 0:00:06.326322 on 22 processors\n",
      "LocDic Time Series F04: Finished multiprocessing in 0:00:06.436464 on 22 processors\n",
      "LocDic Time Series F05: Finished multiprocessing in 0:00:06.246446 on 22 processors\n",
      "LocDic Time Series F06: Finished multiprocessing in 0:00:06.448218 on 22 processors\n",
      "LocDic Time Series F07: Finished multiprocessing in 0:00:08.448958 on 22 processors\n",
      "LocDic Time Series F08: Finished multiprocessing in 0:00:06.525712 on 22 processors\n",
      "LocDic Time Series F09: Finished multiprocessing in 0:00:08.528179 on 22 processors\n",
      "LocDic Time Series F10: Finished multiprocessing in 0:00:06.675161 on 22 processors\n",
      "LocDic Time Series F11: Finished multiprocessing in 0:00:07.162149 on 22 processors\n",
      "LocDic Time Series F12: Finished multiprocessing in 0:00:07.425615 on 22 processors\n",
      "LocDic Time Series F13: Finished multiprocessing in 0:00:06.381174 on 22 processors\n",
      "LocDic Time Series F14: Finished multiprocessing in 0:00:06.949217 on 22 processors\n",
      "LocDic Time Series F15: Finished multiprocessing in 0:00:05.766331 on 22 processors\n",
      "LocDic Time Series F16: Finished multiprocessing in 0:00:05.906918 on 22 processors\n",
      "LocDic Time Series F17: Finished multiprocessing in 0:00:06.117108 on 22 processors\n",
      "LocDic Time Series F18: Finished multiprocessing in 0:00:06.039894 on 22 processors\n"
     ]
    }
   ],
   "source": [
    "# Get hovmollers\n",
    "\n",
    "U_hovmoller = LocDic_hrrr_hovmoller(sDATE, eDATE, location_dic,\n",
    "                                    variable='UGRD:10 m',\n",
    "                                    forecasts=range(19),\n",
    "                                    area_stats=False,\n",
    "                                    reduce_CPUs=2,\n",
    "                                    verbose=True)\n",
    "\n",
    "V_hovmoller = LocDic_hrrr_hovmoller(sDATE, eDATE, location_dic,\n",
    "                                    variable='VGRD:10 m',\n",
    "                                    forecasts=range(19),\n",
    "                                    area_stats=False,\n",
    "                                    reduce_CPUs=2,\n",
    "                                    verbose=True)"
   ]
  },
  {
   "cell_type": "code",
   "execution_count": 6,
   "metadata": {},
   "outputs": [],
   "source": [
    "\n",
    "speed = wind_uv_to_spd(U_hovmoller[stn], V_hovmoller[stn])\n",
    "VALIDDATES = U_hovmoller['valid_1d+']\n",
    "\n",
    "# Extract Pollywog from Hovmoller array\n",
    "hours_from_sDATE = range(0, np.shape(speed)[1])\n",
    "pollywogs = {}\n",
    "for index in hours_from_sDATE:\n",
    "    validtime = []\n",
    "    pollywog = []\n",
    "    for f in range(19):\n",
    "        try:\n",
    "            pollywog.append(speed[f, f+index])\n",
    "            validtime.append(VALIDDATES[index]+timedelta(hours=f))\n",
    "        except:\n",
    "            # data out of range of what was retrieved\n",
    "            pass\n",
    "    pollywogs[index] = {'valid': validtime,\n",
    "                        'polly': pollywog}"
   ]
  },
  {
   "cell_type": "code",
   "execution_count": 7,
   "metadata": {},
   "outputs": [
    {
     "name": "stdout",
     "output_type": "stream",
     "text": [
      "\n",
      "Retrieving from MesoWest API: http://api.mesowest.net/v2/stations/timeseries?&token=2562b729557f45f5958516081f06c9eb&stid=JBGC1&start=201811072300&end=201811100200&vars=wind_speed&obtimezone=UTC&output=json\n",
      "\n",
      "    Used wind_speed_set_1\n"
     ]
    }
   ],
   "source": [
    "# Get mesowest observations\n",
    "a = get_mesowest_ts(stn, sDATE-timedelta(hours=1), eDATE+timedelta(hours=1), variables='wind_speed')"
   ]
  },
  {
   "cell_type": "code",
   "execution_count": null,
   "metadata": {},
   "outputs": [],
   "source": []
  },
  {
   "cell_type": "code",
   "execution_count": 8,
   "metadata": {},
   "outputs": [],
   "source": [
    "# Retrieve Percentiles\n",
    "def get_point_MP(inputs):\n",
    "    \"\"\"\n",
    "    Function for MultiProcessing:\n",
    "    Return the value from a point in the HDF5 file array\n",
    "    \"\"\"\n",
    "    FILE, STAT, ROW, COL = inputs\n",
    "    try:\n",
    "        with h5py.File(FILE, 'r') as f:\n",
    "            return f[STAT][x][y]\n",
    "    except:\n",
    "        #print \"COULD NOT GET\", FILE\n",
    "        return np.nan"
   ]
  },
  {
   "cell_type": "code",
   "execution_count": 9,
   "metadata": {},
   "outputs": [],
   "source": [
    "percentiles = [0, 1, 2, 3, 4, 5, 25, 50, 75, 95, 96, 97, 98, 99, 100]\n",
    "var = 'UVGRD:10 m'\n",
    "fxx = 0\n",
    "hours = range(24)\n",
    "\n",
    "variable = var.replace(':', '_').replace(' ', '_')\n",
    "DIR = '/uufs/chpc.utah.edu/common/home/horel-group8/blaylock/HRRR_OSG/hourly30/%s/' % (variable)\n",
    "\n",
    "HTS = OrderedDict()\n",
    "for i, pp in enumerate(percentiles):\n",
    "    # Multiprocessing :)\n",
    "    stat = 'p%02d' % pp\n",
    "    args = [[DIR+'OSG_HRRR_%s_m%02d_d%02d_h%02d_f00.h5' % \\\n",
    "            (variable, D.month, D.day, D.hour), stat, x, y] for D in VALIDDATES]\n",
    "    timer = datetime.now()\n",
    "    num_proc = multiprocessing.cpu_count()\n",
    "    p = multiprocessing.Pool(num_proc)\n",
    "    HTS[stat] = np.array(p.map(get_point_MP, args))\n",
    "    p.close()"
   ]
  },
  {
   "cell_type": "code",
   "execution_count": 10,
   "metadata": {},
   "outputs": [
    {
     "data": {
      "image/png": "[encoded data removed]",
      "text/plain": [
       "<Figure size 468x216 with 1 Axes>"
      ]
     },
     "metadata": {},
     "output_type": "display_data"
    }
   ],
   "source": [
    "xlim = [sDATE, eDATE-timedelta(hours=1)]\n",
    "\n",
    "\n",
    "fig = plt.figure()\n",
    "fig.subplots_adjust(hspace=0, right=0.8)\n",
    "# Background OSG Percentiles\n",
    "plt.fill_between(VALIDDATES,\n",
    "                 HTS['p95'], HTS['p05'],\n",
    "                 facecolor=[.8, .8, .8],\n",
    "                 linewidth=0,\n",
    "                 label='HRRR p05-p95')\n",
    "plt.fill_between(VALIDDATES,\n",
    "                 HTS['p75'], HTS['p25'],\n",
    "                 facecolor=[.5, .5, .5],\n",
    "                 linewidth=0,\n",
    "                 label='HRRR p25-p75')\n",
    "plt.plot(VALIDDATES,\n",
    "         HTS['p50'],\n",
    "         color=[.8, .8, .8],\n",
    "         lw=1,\n",
    "         label='HRRR p50',\n",
    "         zorder=1)\n",
    "for i in [1,2,3,4,96, 97, 98, 99]:\n",
    "    plt.plot(VALIDDATES,\n",
    "             HTS['p%02d' % i],\n",
    "             color=[.8, .8, .8],\n",
    "             lw=1,\n",
    "             linestyle='--', dashes=(5,3),\n",
    "             label='HRRR p%02d' % i,\n",
    "             zorder=1)\n",
    "\n",
    "\n",
    "# Cycle pollywogs through these colors.\n",
    "colors = ['red', 'darkblue', 'green', 'darkorchid', 'darkorange'] * 50\n",
    "color_count = 0\n",
    "for p in hours_from_sDATE:\n",
    "    plt.scatter(pollywogs[p]['valid'][0], pollywogs[p]['polly'][0],\n",
    "                s=60,\n",
    "                lw=0,\n",
    "                c=colors[color_count],\n",
    "                zorder=2)\n",
    "    plt.plot(pollywogs[p]['valid'], pollywogs[p]['polly'],\n",
    "             c=colors[color_count],\n",
    "             lw=1,\n",
    "             zorder=1)\n",
    "    color_count += 1\n",
    "\n",
    "plt.scatter(VALIDDATES[:-1], speed[0,:],\n",
    "            c=[.2, .2, .2],\n",
    "            s=25,\n",
    "            lw=0,\n",
    "            zorder=3)\n",
    "\n",
    "plt.plot(a['DATETIME'], a['wind_speed'],\n",
    "         color='k',\n",
    "         linestyle='--', dashes=(5, 3),\n",
    "         zorder=5)\n",
    "\n",
    "plt.gca().xaxis.set_major_formatter(formatter)\n",
    "plt.gca().xaxis.set_major_locator(mdates.HourLocator(range(0, 24, 6)))\n",
    "plt.gca().xaxis.set_minor_locator(mdates.HourLocator(range(0, 24, 1)))\n",
    "\n",
    "plt.xlim(xlim)\n",
    "#plt.ylim([0,15])\n",
    "\n",
    "plt.ylabel(r'10 m Wind Speed (m s$\\mathregular{^{-1}}$)')\n",
    "\n",
    "plt.title(stn, fontweight='semibold')\n",
    "\n",
    "#plt.title(stn + ' Wind Speed', fontweight='semibold')\n",
    "plt.savefig('./figs/pollywog_%s_percentiles_mesowest' % (stn))"
   ]
  },
  {
   "cell_type": "code",
   "execution_count": null,
   "metadata": {},
   "outputs": [],
   "source": []
  }
 ],
 "metadata": {
  "kernelspec": {
   "display_name": "Python 3",
   "language": "python",
   "name": "python3"
  },
  "language_info": {
   "codemirror_mode": {
    "name": "ipython",
    "version": 3
   },
   "file_extension": ".py",
   "mimetype": "text/x-python",
   "name": "python",
   "nbconvert_exporter": "python",
   "pygments_lexer": "ipython3",
   "version": "3.6.5"
  }
 },
 "nbformat": 4,
 "nbformat_minor": 2
}

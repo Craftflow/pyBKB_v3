{
 "cells": [
  {
   "cell_type": "markdown",
   "metadata": {},
   "source": [
    "**Brian Blaylock**  \n",
    "**December 12, 2018**\n",
    "\n",
    "# FLAME Equation Method\n",
    "\n",
    "[FireLine Assessment MEthod (FLAME)](https://www.fs.fed.us/rm/pubs/rmrs_p046/rmrs_p046_027_074.pdf)\n",
    "\n",
    "\n",
    "|Type|Equation for Rate Change/Hour  | Wind Speed Correction |\n",
    "|----|--------|--|\n",
    "| Grass|\\begin{equation}y = 14.384x^{1.2321}\\end{equation}| 0.75x|\n",
    "| Crown|\\begin{equation}y = 4.8706x^{1.1456}\\end{equation}| 1x|\n",
    "| Litter|\\begin{equation}y = 1.0273x^{1.2128}\\end{equation}| 0.25x|\n",
    "\n",
    "Where x is the wind speed in MPH and y is the r ch/hr\n",
    "\n",
    "___\n",
    "\n",
    "## MODIS and HRRR Landuse Classification\n",
    "\n",
    "* indicates not in HRRR file\n",
    "\n",
    "|Value|Label|Fuel|Threshold|\n",
    "|--|--|--|--|\n",
    "|1|Evergreen Needleleaf forest|Litter/Crown|?|\n",
    "|2|Evergreen Broadleaf forest|Litter/Crown|?|\n",
    "|3|Deciduous Needleleaf forest|Litter|\n",
    "|4|Deciduous Broadleaf forest|Litter|\n",
    "|5|Mixed forest|Litter/Crown|?|\n",
    "|6|Closed shrublands|Litter/Crown|?|\n",
    "|7|Open shrublands|Grass|\n",
    "|8|Woody savannas|Grass| \n",
    "|9|Savannas|Grass|\n",
    "|10|Grasslands|Grass|\n",
    "|11|Permanent wetlands|Barrier|\n",
    "|12|Croplands|Barrier/Grass|?|\n",
    "|13|Urban and built-up|Barrier|\n",
    "|14|Cropland/Natural vegetation mosaic|Barrier/Grass|?|\n",
    "|15|Snow and ice|Barrier| \n",
    "|16|Barren or sparsely vegetated|Barrier|\n",
    "|17|Water|Barrier|\n",
    "|18|Wooded Tundra|Crown|\n",
    "|19|Mixed Tundra|Grass| \n",
    "|20|*Barren Tundra|Barrier|\n",
    "|21|*Lake|Barrier|"
   ]
  },
  {
   "cell_type": "code",
   "execution_count": 1,
   "metadata": {},
   "outputs": [],
   "source": [
    "import numpy as np\n",
    "import matplotlib.pyplot as plt\n",
    "from datetime import datetime, timedelta\n",
    "\n",
    "import sys\n",
    "sys.path.append('/uufs/chpc.utah.edu/common/home/u0553130/pyBKB_v3')\n",
    "from BB_HRRR.HRRR_Pando import get_hrrr_variable\n",
    "from BB_cmap.landuse_colormap import LU_MODIS21"
   ]
  },
  {
   "cell_type": "markdown",
   "metadata": {},
   "source": [
    "# FLAME equations"
   ]
  },
  {
   "cell_type": "code",
   "execution_count": 2,
   "metadata": {},
   "outputs": [],
   "source": [
    "speeds = np.arange(0,20,.1)\n",
    "\n",
    "R_grass = 14.384 * (speeds*.75)**1.2321\n",
    "R_crown = 4.8706 * (speeds*1)**4.8706\n",
    "R_litter = 1.0273 * (speeds*.25)**1.2128"
   ]
  },
  {
   "cell_type": "code",
   "execution_count": 3,
   "metadata": {},
   "outputs": [
    {
     "data": {
      "text/plain": [
       "<matplotlib.legend.Legend at 0x2b5626965cf8>"
      ]
     },
     "execution_count": 3,
     "metadata": {},
     "output_type": "execute_result"
    },
    {
     "data": {
      "image/png": "[encoded data removed]",
      "text/plain": [
       "<Figure size 432x288 with 1 Axes>"
      ]
     },
     "metadata": {},
     "output_type": "display_data"
    }
   ],
   "source": [
    "plt.plot(speeds, R_grass, label='Grass')\n",
    "plt.plot(speeds, R_crown, label='Crown')\n",
    "plt.plot(speeds, R_litter, label='Litter')\n",
    "plt.ylim(0,300)\n",
    "plt.legend()"
   ]
  },
  {
   "cell_type": "markdown",
   "metadata": {},
   "source": [
    "# HRRR Landuse"
   ]
  },
  {
   "cell_type": "code",
   "execution_count": 4,
   "metadata": {},
   "outputs": [],
   "source": [
    "landuse = LU_MODIS21()"
   ]
  },
  {
   "cell_type": "code",
   "execution_count": 5,
   "metadata": {},
   "outputs": [
    {
     "name": "stdout",
     "output_type": "stream",
     "text": [
      "\n",
      " >> Dowloading tempfile: ./temp_hrrr_2018120100_f00_VGT.grib2\n",
      "Oh, good, you requested a date that should be on Pando.\n",
      "GRIB2 File: https://pando-rgw01.chpc.utah.edu/hrrr/sfc/20181201/hrrr.t00z.wrfsfcf00.grib2\n",
      " .idx File: https://pando-rgw01.chpc.utah.edu/hrrr/sfc/20181201/hrrr.t00z.wrfsfcf00.grib2.idx\n",
      " >> Matched a variable:  93:54342445:d=2018120100:VGTYP:surface:anl:\n",
      " >> Byte Range: 54342445 55123270\n",
      "  Run Date: 2018-12-01 00:00 UTC F00\n",
      "Valid Date: 2018-12-01 00:00 UTC\n"
     ]
    }
   ],
   "source": [
    "DATE = datetime(2018, 12, 1)\n",
    "H = get_hrrr_variable(DATE, variable='VGTYP:surface')"
   ]
  },
  {
   "cell_type": "code",
   "execution_count": 6,
   "metadata": {},
   "outputs": [
    {
     "data": {
      "text/plain": [
       "99527"
      ]
     },
     "execution_count": 6,
     "metadata": {},
     "output_type": "execute_result"
    }
   ],
   "source": [
    "np.sum(H['value']==1)"
   ]
  },
  {
   "cell_type": "code",
   "execution_count": 28,
   "metadata": {},
   "outputs": [
    {
     "name": "stdout",
     "output_type": "stream",
     "text": [
      "5.224% for Evergreen Needleleaf Forest\n",
      "0.215% for Evergreen Broadleaf Forest\n",
      "0.026% for Deciduous Needleleaf Forest\n",
      "2.566% for Deciduous Broadleaf Forest\n",
      "8.467% for Mixed Forests\n",
      "0.127% for Closed Shrublands\n",
      "8.199% for Open Shrublands\n",
      "4.146% for Woody Savannas\n",
      "0.126% for Savannas\n",
      "16.136% for Grasslands\n",
      "0.734% for Permanent Wetlands\n",
      "8.986% for Croplands\n",
      "0.733% for Urban and Built-Up\n",
      "6.553% for Cropland/Natural Vegetation Mosaic\n",
      "0.371% for Snow and Ice\n",
      "0.780% for Barren or Sparsely Vegetated\n",
      "36.596% for Water\n",
      "0.015% for Wooded Tundra\n",
      "0.000% for Mixed Tundra\n",
      "0.000% for Barren Tundra\n",
      "0.000% for Lake\n"
     ]
    }
   ],
   "source": [
    "for i, index in enumerate(landuse['index']):\n",
    "    count = np.sum(H['value']==index)\n",
    "    print('%2.3f%% for %s' % (100*count/np.size(H['value']), landuse['labels'][i]))"
   ]
  },
  {
   "cell_type": "code",
   "execution_count": 33,
   "metadata": {},
   "outputs": [
    {
     "data": {
      "text/plain": [
       "(array([ 99527,   4090,    501,  48879, 161316,   2428, 156210,  78984,\n",
       "          2395, 307409,  13986, 171196,  13961, 124837,   7061,  14867,\n",
       "        697211,    279,      4,      0]),\n",
       " array([ 1,  2,  3,  4,  5,  6,  7,  8,  9, 10, 11, 12, 13, 14, 15, 16, 17,\n",
       "        18, 19, 20, 21]))"
      ]
     },
     "execution_count": 33,
     "metadata": {},
     "output_type": "execute_result"
    }
   ],
   "source": [
    "np.histogram(H['value'], bins=landuse['index'])"
   ]
  },
  {
   "cell_type": "code",
   "execution_count": 92,
   "metadata": {},
   "outputs": [
    {
     "name": "stderr",
     "output_type": "stream",
     "text": [
      "/uufs/chpc.utah.edu/common/home/u0553130/anaconda3/lib/python3.6/site-packages/matplotlib/axes/_axes.py:6462: UserWarning: The 'normed' kwarg is deprecated, and has been replaced by the 'density' kwarg.\n",
      "  warnings.warn(\"The 'normed' kwarg is deprecated, and has been \"\n"
     ]
    },
    {
     "data": {
      "image/png": "[encoded data removed]",
      "text/plain": [
       "<Figure size 432x288 with 1 Axes>"
      ]
     },
     "metadata": {},
     "output_type": "display_data"
    }
   ],
   "source": [
    "plt.hist(H['value'].flatten(), bins=landuse['index'], normed=True)\n",
    "plt.xticks(np.array(landuse['index'])+.5, landuse['labels'],rotation=90);"
   ]
  },
  {
   "cell_type": "code",
   "execution_count": 44,
   "metadata": {},
   "outputs": [
    {
     "data": {
      "text/plain": [
       "array([17., 17., 17., ..., 17., 17., 17.], dtype=float32)"
      ]
     },
     "execution_count": 44,
     "metadata": {},
     "output_type": "execute_result"
    }
   ],
   "source": [
    "H['value'].flatten()"
   ]
  },
  {
   "cell_type": "code",
   "execution_count": 13,
   "metadata": {},
   "outputs": [
    {
     "data": {
      "text/plain": [
       "1905141"
      ]
     },
     "execution_count": 13,
     "metadata": {},
     "output_type": "execute_result"
    }
   ],
   "source": [
    "np.size(H['value'])"
   ]
  },
  {
   "cell_type": "code",
   "execution_count": 83,
   "metadata": {},
   "outputs": [],
   "source": [
    "colors = [i for i in landuse['cmap'].colors]"
   ]
  },
  {
   "cell_type": "code",
   "execution_count": 84,
   "metadata": {},
   "outputs": [
    {
     "data": {
      "text/plain": [
       "[array([0. , 0.4, 0. ]),\n",
       " array([0. , 0.4, 0.2]),\n",
       " array([0.2, 0.8, 0.2]),\n",
       " array([0.2, 0.8, 0.4]),\n",
       " array([0.2, 0.6, 0.2]),\n",
       " array([0.3, 0.7, 0. ]),\n",
       " array([0.82, 0.41, 0.12]),\n",
       " array([0.74, 0.71, 0.41]),\n",
       " array([1.  , 0.84, 0.  ]),\n",
       " array([0., 1., 0.]),\n",
       " array([0., 1., 1.]),\n",
       " array([1., 1., 0.]),\n",
       " array([1., 0., 0.]),\n",
       " array([0.7, 0.9, 0.3]),\n",
       " array([1., 1., 1.]),\n",
       " array([0.914, 0.914, 0.7  ]),\n",
       " array([0.5, 0.7, 1. ]),\n",
       " array([1.  , 0.  , 0.74]),\n",
       " array([0.97, 0.5 , 0.31]),\n",
       " array([0.91, 0.59, 0.48]),\n",
       " array([0.  , 0.  , 0.88])]"
      ]
     },
     "execution_count": 84,
     "metadata": {},
     "output_type": "execute_result"
    }
   ],
   "source": [
    "colors"
   ]
  },
  {
   "cell_type": "code",
   "execution_count": 76,
   "metadata": {},
   "outputs": [
    {
     "data": {
      "text/plain": [
       "21"
      ]
     },
     "execution_count": 76,
     "metadata": {},
     "output_type": "execute_result"
    }
   ],
   "source": [
    "len(landuse['index'])"
   ]
  },
  {
   "cell_type": "code",
   "execution_count": 77,
   "metadata": {},
   "outputs": [
    {
     "data": {
      "text/plain": [
       "21"
      ]
     },
     "execution_count": 77,
     "metadata": {},
     "output_type": "execute_result"
    }
   ],
   "source": [
    "len(colors)"
   ]
  },
  {
   "cell_type": "code",
   "execution_count": null,
   "metadata": {},
   "outputs": [],
   "source": []
  }
 ],
 "metadata": {
  "kernelspec": {
   "display_name": "Python 3",
   "language": "python",
   "name": "python3"
  },
  "language_info": {
   "codemirror_mode": {
    "name": "ipython",
    "version": 3
   },
   "file_extension": ".py",
   "mimetype": "text/x-python",
   "name": "python",
   "nbconvert_exporter": "python",
   "pygments_lexer": "ipython3",
   "version": "3.6.5"
  }
 },
 "nbformat": 4,
 "nbformat_minor": 2
}

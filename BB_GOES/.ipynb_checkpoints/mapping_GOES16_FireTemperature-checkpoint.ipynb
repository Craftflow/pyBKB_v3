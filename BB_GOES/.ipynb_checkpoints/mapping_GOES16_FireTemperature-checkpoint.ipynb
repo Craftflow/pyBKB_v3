{
 "cells": [
  {
   "cell_type": "markdown",
   "metadata": {},
   "source": [
    "<a href=\"https://www.goes-r.gov/\">\n",
    "<img src='./GOES-R_logo_small.png' style=\"height:150px\" align=right alt=\"GOES16 Logo\">\n",
    "</a>\n",
    "\n",
    "# GOES-16: Fire Temperature\n",
    "__Brian Blaylock__   \n",
    "__July 5, 2018__  \n",
    "| brian.blaylock@utah.edu | [website](http://home.chpc.utah.edu/~u0553130/Brian_Blaylock/home.html) |  \n",
    "\n",
    "Supplimental Notebooks | [GOES16 TrueColor](https://github.com/blaylockbk/pyBKB_v3/blob/master/BB_GOES/mapping_GOES16_TrueColor.ipynb)\n",
    "\n",
    "This Python 3 notebook shows how to make the fire temperature product from the GOES-16 Advanced Baseline Imager (ABI) level 2 data. We will plot the image with `matplotlib` and `Basemap`. The image can be displayed on any map projection after applying a transformation using `pyproj`. The methods shown here are stitched together from the following useful information found online:\n",
    "- [ABI Bands Quick Information Guides](https://www.goes-r.gov/education/ABI-bands-quick-info.html)\n",
    "- [Open Commons Consortium](http://edc.occ-data.org/goes16/python/)\n",
    "- [GeoNetCast Blog](https://geonetcast.wordpress.com/2017/07/25/geonetclass-manipulating-goes-16-data-with-python-part-vi/)\n",
    "- [Proj documentation](https://proj4.org/operations/projections/geos.html?highlight=geostationary)\n",
    "- [Pyproj documentation](http://jswhit.github.io/pyproj/pyproj.Proj-class.html)\n",
    "- [Fire Temperature Recipe](OR_ABI-L2-MCMIPC-M3_G16_s20182570022128_e20182570024501_c20182570025006.nc)\n",
    "\n",
    "The **Fire Temperature Product** is an RGB composite of the following three channels:\n",
    "\n",
    "\n",
    "|         _ | Wavelength   | Channel | Description |\n",
    "|----------|:------------:|:-------:|:-----------:|\n",
    "| **Red**  | 3.9 &#181;m  |    7    | Shortwave Window |\n",
    "| **Green**| 2.2 &#181;m |    6    | Cloud Particle Size|\n",
    "| **Blue** | 1.6 &#181;m |    5    | Snow/Ice|\n",
    "\n",
    "---\n",
    "\n",
    "## Download a GOES-16 ABI file\n",
    "For this demo, you will need GOES-16 ABI level 2 data. You can get GOES-16 files from NOAA's GOES archive on [Amazon S3](https://aws.amazon.com/public-datasets/goes/). I created a [web interface](http://home.chpc.utah.edu/~u0553130/Brian_Blaylock/cgi-bin/goes16_download.cgi?domain=C&product=ABI-L2-MCMIP&hour=0) to easily download files from the Amazon archive. For scripted or bulk downloads, you should use `rclone` or `AWS CLI`. You may also download files from the [Environmental Data Commons](http://edc.occ-data.org/goes16/getdata/) and [NOAA CLASS](https://www.avl.class.noaa.gov/saa/products/search?sub_id=0&datatype_family=GRABIPRD&submit.x=25&submit.y=9).\n",
    "\n",
    "This example uses the **level 2 _multiband_ formatted file for the _CONUS_ domain** ([ABI-L2-MCMIPC](http://home.chpc.utah.edu/~u0553130/Brian_Blaylock/cgi-bin/goes16_download.cgi?domain=C&product=ABI-L2-MCMIP&hour=0)). The multiband file is easiest to work with becuase it contains all 16 channels on the same 2 km grid. However, some channels have higher resolution. Plotting the full resolution images will take some additional work, not described here. Specifically, you will have to download three separate files, one for each channel, and subsample the red channel 0.5 km grid to a 1 km grid.\n",
    "\n",
    "I previously downloaded the following file from Amazon Web Services. The date and time this file corresponds to is during the [Pole Creek fire](https://inciweb.nwcg.gov/incident/6199/) in Utah on September 14. 2018. \n",
    "\n",
    "    OR_ABI-L2-MCMIPC-M3_G16_s20182570022128_e20182570024501_c20182570025006.nc\n",
    "\n",
    ">OR     - Indicates the system is operational  \n",
    " ABI    - Instrument type  \n",
    " L2     - Level 2 Data  \n",
    " MCMIP  - Multichannel Cloud and Moisture Imagery products  \n",
    " c      - CONUS file (created every 5 minutes).  \n",
    " M3     - Scan mode  \n",
    " G16    - GOES-16  \n",
    " s##### - Scan start: 4 digit year, 3 digit day of year (Julian day), hour, minute, second, tenth second  \n",
    " e##### - Scan end\n",
    " c##### - File Creation  \n",
    " .nc    - NetCDF file extension  \n",
    "\n",
    "More information about GOES-16 files can be found on [Amazon AWS](https://docs.opendata.aws/noaa-goes16/cics-readme.html)."
   ]
  },
  {
   "cell_type": "markdown",
   "metadata": {},
   "source": [
    "## First, import the libraries we will use"
   ]
  },
  {
   "cell_type": "code",
   "execution_count": 1,
   "metadata": {},
   "outputs": [],
   "source": [
    "%matplotlib inline\n",
    "\n",
    "import numpy as np\n",
    "from datetime import datetime, timedelta\n",
    "from pyproj import Proj\n",
    "import xarray\n",
    "import matplotlib.pyplot as plt\n",
    "from mpl_toolkits.basemap import Basemap"
   ]
  },
  {
   "cell_type": "markdown",
   "metadata": {},
   "source": [
    "## Open the GOES-16 NetCDF File\n",
    "Using xarray, I assign the opened file to the variable C for the CONUS domain."
   ]
  },
  {
   "cell_type": "code",
   "execution_count": 2,
   "metadata": {},
   "outputs": [],
   "source": [
    "FILE = 'OR_ABI-L2-MCMIPC-M3_G16_s20182570022128_e20182570024501_c20182570025006.nc'\n",
    "\n",
    "C = xarray.open_dataset(FILE)"
   ]
  },
  {
   "cell_type": "markdown",
   "metadata": {},
   "source": [
    "## Date and Time Information\n",
    "Each file represents the data collected during one scan sequence for the domain. There are several different time stamps in this file, which are also found in the file's name."
   ]
  },
  {
   "cell_type": "code",
   "execution_count": 3,
   "metadata": {},
   "outputs": [
    {
     "name": "stdout",
     "output_type": "stream",
     "text": [
      "Scan Start    : 2018-09-14 00:22:12.800000\n",
      "Scan midpoint : 2018-09-14 00:23:31.400000\n",
      "Scan End      : 2018-09-14 00:24:50.100000\n",
      "File Created  : 2018-09-14 00:25:00.600000\n",
      "Scan Duration : 2.62 minutes\n"
     ]
    }
   ],
   "source": [
    "# Scan's start time, converted to datetime object\n",
    "scan_start = datetime.strptime(C.time_coverage_start, '%Y-%m-%dT%H:%M:%S.%fZ')\n",
    "\n",
    "# Scan's end time, converted to datetime object\n",
    "scan_end = datetime.strptime(C.time_coverage_end, '%Y-%m-%dT%H:%M:%S.%fZ')\n",
    "\n",
    "# File creation time, convert to datetime object\n",
    "file_created = datetime.strptime(C.date_created, '%Y-%m-%dT%H:%M:%S.%fZ')\n",
    "\n",
    "# The 't' variable is the scan's midpoint time\n",
    "# I'm not a fan of numpy datetime, so I convert it to a regular datetime object\n",
    "midpoint = str(C['t'].data)[:-8]\n",
    "scan_mid = datetime.strptime(midpoint, '%Y-%m-%dT%H:%M:%S.%f')\n",
    "\n",
    "print('Scan Start    : %s' % scan_start)\n",
    "print('Scan midpoint : %s' % scan_mid)\n",
    "print('Scan End      : %s' % scan_end)\n",
    "print('File Created  : %s' % file_created)\n",
    "print('Scan Duration : %.2f minutes' % ((scan_end-scan_start).seconds/60))"
   ]
  },
  {
   "cell_type": "markdown",
   "metadata": {},
   "source": [
    "## True Color Recipe\n",
    "Color images are a Red-Green-Blue (RGB) composite of three different channels. We will assign the following channels as our RGB values, according the the [GOES Quick Guide Reference](http://rammb.cira.colostate.edu/training/visit/quick_guides/Fire_Temperature_RGB.pdf):\n",
    "\n",
    "\n",
    "|          -    | **RED**      | **GREEN**      | **BLUE**     |\n",
    "|---------------|:------------:|:--------------:|:------------:|\n",
    "| **Name**      | Shortwave Window | Cloud Partilce Size | Snow/Ice |\n",
    "| **Wavelength**| 3.9 &#181;m | 2.2 &#181;m   | 1.6 &#181;m |\n",
    "| **Channel**   |      7       |       6        |      5       |\n",
    "| **Units**     | temperature range [273.15-333.15]<br>Gamma=1/.4 | reflectance range [0-1]  | reflectance range [0-75] |\n",
    "\n",
    "The multiband formatted file we loaded is convenient becuase all the GOES channels are in the same NetCDF file. Next, we will assign our variables R, G, and B as the data for each channel."
   ]
  },
  {
   "cell_type": "code",
   "execution_count": 4,
   "metadata": {},
   "outputs": [
    {
     "name": "stdout",
     "output_type": "stream",
     "text": [
      "ABI band 7 central wavelength is 3.89 um\n",
      "ABI band 6 central wavelength is 2.25 um\n",
      "ABI band 5 central wavelength is 1.61 um\n"
     ]
    }
   ],
   "source": [
    "# Confirm that each band is the wavelength we are interested in\n",
    "for band in [7, 6, 5]:\n",
    "    print(\"%s is %.2f %s\" % (C['band_wavelength_C%02d' % band].long_name,\n",
    "                             C['band_wavelength_C%02d' % band][0],\n",
    "                             C['band_wavelength_C%02d' % band].units))"
   ]
  }
 ],
 "metadata": {
  "kernelspec": {
   "display_name": "Python 3",
   "language": "python",
   "name": "python3"
  },
  "language_info": {
   "codemirror_mode": {
    "name": "ipython",
    "version": 3
   },
   "file_extension": ".py",
   "mimetype": "text/x-python",
   "name": "python",
   "nbconvert_exporter": "python",
   "pygments_lexer": "ipython3",
   "version": "3.6.5"
  }
 },
 "nbformat": 4,
 "nbformat_minor": 2
}
